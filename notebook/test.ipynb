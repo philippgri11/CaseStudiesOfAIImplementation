{
 "cells": [
  {
   "cell_type": "code",
   "execution_count": 14,
   "outputs": [
    {
     "name": "stdout",
     "output_type": "stream",
     "text": [
      "The autoreload extension is already loaded. To reload it, use:\n",
      "  %reload_ext autoreload\n"
     ]
    }
   ],
   "source": [
    "%load_ext autoreload\n",
    "%autoreload 2"
   ],
   "metadata": {
    "collapsed": false,
    "ExecuteTime": {
     "end_time": "2024-03-15T17:47:51.128372Z",
     "start_time": "2024-03-15T17:47:51.087437Z"
    }
   },
   "id": "a7ab0dcc5ce10a5a"
  },
  {
   "cell_type": "code",
   "execution_count": 15,
   "outputs": [],
   "source": [
    "from src.load_data import get_data\n",
    "import xgboost as xgb\n",
    "from src.preprocessing import preprocessing\n",
    "from src.evaluation import evaluate_model, get_param"
   ],
   "metadata": {
    "collapsed": false,
    "ExecuteTime": {
     "end_time": "2024-03-15T17:47:51.158220Z",
     "start_time": "2024-03-15T17:47:51.128138Z"
    }
   },
   "id": "dbac1d81baac001d"
  },
  {
   "cell_type": "code",
   "execution_count": 16,
   "outputs": [
    {
     "data": {
      "text/plain": "         t1    r1  dayofweek  startDate_year  startDate_month  startDate_day  \\\n0      9.54  0.00          3            2015                4             30   \n1      9.48  0.00          4            2015                5              1   \n2      9.43  0.00          4            2015                5              1   \n3      9.37  0.00          4            2015                5              1   \n4      9.31  0.00          4            2015                5              1   \n...     ...   ...        ...             ...              ...            ...   \n5851  23.78  1.97          1            2015                6             30   \n5852  23.64  1.82          1            2015                6             30   \n5853  21.90  0.00          1            2015                6             30   \n5854  21.80  0.00          1            2015                6             30   \n5855  21.70  0.00          1            2015                6             30   \n\n      startDate_hour  startDate_minute  holiday  schoolHoliday  \n0                 23                45        0              0  \n1                  0                 0        1              0  \n2                  0                15        1              0  \n3                  0                30        1              0  \n4                  0                45        1              0  \n...              ...               ...      ...            ...  \n5851              22                30        0              0  \n5852              22                45        0              0  \n5853              23                 0        0              0  \n5854              23                15        0              0  \n5855              23                30        0              0  \n\n[5856 rows x 10 columns]",
      "text/html": "<div>\n<style scoped>\n    .dataframe tbody tr th:only-of-type {\n        vertical-align: middle;\n    }\n\n    .dataframe tbody tr th {\n        vertical-align: top;\n    }\n\n    .dataframe thead th {\n        text-align: right;\n    }\n</style>\n<table border=\"1\" class=\"dataframe\">\n  <thead>\n    <tr style=\"text-align: right;\">\n      <th></th>\n      <th>t1</th>\n      <th>r1</th>\n      <th>dayofweek</th>\n      <th>startDate_year</th>\n      <th>startDate_month</th>\n      <th>startDate_day</th>\n      <th>startDate_hour</th>\n      <th>startDate_minute</th>\n      <th>holiday</th>\n      <th>schoolHoliday</th>\n    </tr>\n  </thead>\n  <tbody>\n    <tr>\n      <th>0</th>\n      <td>9.54</td>\n      <td>0.00</td>\n      <td>3</td>\n      <td>2015</td>\n      <td>4</td>\n      <td>30</td>\n      <td>23</td>\n      <td>45</td>\n      <td>0</td>\n      <td>0</td>\n    </tr>\n    <tr>\n      <th>1</th>\n      <td>9.48</td>\n      <td>0.00</td>\n      <td>4</td>\n      <td>2015</td>\n      <td>5</td>\n      <td>1</td>\n      <td>0</td>\n      <td>0</td>\n      <td>1</td>\n      <td>0</td>\n    </tr>\n    <tr>\n      <th>2</th>\n      <td>9.43</td>\n      <td>0.00</td>\n      <td>4</td>\n      <td>2015</td>\n      <td>5</td>\n      <td>1</td>\n      <td>0</td>\n      <td>15</td>\n      <td>1</td>\n      <td>0</td>\n    </tr>\n    <tr>\n      <th>3</th>\n      <td>9.37</td>\n      <td>0.00</td>\n      <td>4</td>\n      <td>2015</td>\n      <td>5</td>\n      <td>1</td>\n      <td>0</td>\n      <td>30</td>\n      <td>1</td>\n      <td>0</td>\n    </tr>\n    <tr>\n      <th>4</th>\n      <td>9.31</td>\n      <td>0.00</td>\n      <td>4</td>\n      <td>2015</td>\n      <td>5</td>\n      <td>1</td>\n      <td>0</td>\n      <td>45</td>\n      <td>1</td>\n      <td>0</td>\n    </tr>\n    <tr>\n      <th>...</th>\n      <td>...</td>\n      <td>...</td>\n      <td>...</td>\n      <td>...</td>\n      <td>...</td>\n      <td>...</td>\n      <td>...</td>\n      <td>...</td>\n      <td>...</td>\n      <td>...</td>\n    </tr>\n    <tr>\n      <th>5851</th>\n      <td>23.78</td>\n      <td>1.97</td>\n      <td>1</td>\n      <td>2015</td>\n      <td>6</td>\n      <td>30</td>\n      <td>22</td>\n      <td>30</td>\n      <td>0</td>\n      <td>0</td>\n    </tr>\n    <tr>\n      <th>5852</th>\n      <td>23.64</td>\n      <td>1.82</td>\n      <td>1</td>\n      <td>2015</td>\n      <td>6</td>\n      <td>30</td>\n      <td>22</td>\n      <td>45</td>\n      <td>0</td>\n      <td>0</td>\n    </tr>\n    <tr>\n      <th>5853</th>\n      <td>21.90</td>\n      <td>0.00</td>\n      <td>1</td>\n      <td>2015</td>\n      <td>6</td>\n      <td>30</td>\n      <td>23</td>\n      <td>0</td>\n      <td>0</td>\n      <td>0</td>\n    </tr>\n    <tr>\n      <th>5854</th>\n      <td>21.80</td>\n      <td>0.00</td>\n      <td>1</td>\n      <td>2015</td>\n      <td>6</td>\n      <td>30</td>\n      <td>23</td>\n      <td>15</td>\n      <td>0</td>\n      <td>0</td>\n    </tr>\n    <tr>\n      <th>5855</th>\n      <td>21.70</td>\n      <td>0.00</td>\n      <td>1</td>\n      <td>2015</td>\n      <td>6</td>\n      <td>30</td>\n      <td>23</td>\n      <td>30</td>\n      <td>0</td>\n      <td>0</td>\n    </tr>\n  </tbody>\n</table>\n<p>5856 rows × 10 columns</p>\n</div>"
     },
     "execution_count": 16,
     "metadata": {},
     "output_type": "execute_result"
    }
   ],
   "source": [
    "dataset= \"loadCurveThreeTest\"\n",
    "data = get_data(dataset, should_clean_data=False)\n",
    "data = data.drop(\"electricLoad\", axis=1)\n",
    "data"
   ],
   "metadata": {
    "collapsed": false,
    "ExecuteTime": {
     "end_time": "2024-03-15T17:47:51.241539Z",
     "start_time": "2024-03-15T17:47:51.158695Z"
    }
   },
   "id": "a6af175647812210"
  },
  {
   "cell_type": "code",
   "execution_count": 17,
   "outputs": [],
   "source": [
    "path_best_model_lc1= \"../models/model_2024-03-15_12-52-30.json\"\n",
    "path_best_model_lc2= \"../models/model_2024-03-15_12-16-07.json\"\n",
    "path_best_model_lc3= \"../models/model_2024-03-15_11-21-13.json\"\n",
    "param = get_param()\n",
    "model = xgb.XGBRegressor()\n",
    "model.load_model(path_best_model_lc3)\n",
    "preprocessingParams = param['best_preprocessing_lc3']\n",
    "data = preprocessing(data, split=False, **preprocessingParams)"
   ],
   "metadata": {
    "collapsed": false,
    "ExecuteTime": {
     "end_time": "2024-03-15T17:47:51.977480Z",
     "start_time": "2024-03-15T17:47:51.240581Z"
    }
   },
   "id": "c7b4ee6600eb14c"
  },
  {
   "cell_type": "code",
   "execution_count": 18,
   "outputs": [
    {
     "data": {
      "text/plain": "         t1      r1  dayofweek  startDate_year  startDate_month  \\\n7      9.00    0.00          4            2015                5   \n8      8.89    0.00          4            2015                5   \n9      8.85    0.00          4            2015                5   \n10     8.82    0.00          4            2015                5   \n11     8.78    0.00          4            2015                5   \n...     ...     ...        ...             ...              ...   \n5843  27.99  172.48          1            2015                6   \n5844  27.89  163.93          1            2015                6   \n5845  26.52   57.61          1            2015                6   \n5846  26.36   53.94          1            2015                6   \n5847  26.21   50.26          1            2015                6   \n\n      startDate_day  startDate_hour  startDate_minute  holiday  schoolHoliday  \\\n7                 1               1                30        1              0   \n8                 1               1                45        1              0   \n9                 1               2                 0        1              0   \n10                1               2                15        1              0   \n11                1               2                30        1              0   \n...             ...             ...               ...      ...            ...   \n5843             30              20                30        0              0   \n5844             30              20                45        0              0   \n5845             30              21                 0        0              0   \n5846             30              21                15        0              0   \n5847             30              21                30        0              0   \n\n      ...    t16    t17   t1-8   t1-7   t1-6   t1-5   t1-4   t1-3   t1-2  \\\n7     ...   9.48   9.54   8.68   8.70   8.72   8.74   8.78   8.82   8.85   \n8     ...   9.43   9.48   8.66   8.68   8.70   8.72   8.74   8.78   8.82   \n9     ...   9.37   9.43   8.61   8.66   8.68   8.70   8.72   8.74   8.78   \n10    ...   9.31   9.37   8.56   8.61   8.66   8.68   8.70   8.72   8.74   \n11    ...   9.21   9.31   8.51   8.56   8.61   8.66   8.68   8.70   8.72   \n...   ...    ...    ...    ...    ...    ...    ...    ...    ...    ...   \n5843  ...  29.27  29.68  23.78  23.91  24.05  26.05  26.21  26.36  26.52   \n5844  ...  29.20  29.27  23.64  23.78  23.91  24.05  26.05  26.21  26.36   \n5845  ...  29.13  29.20  21.90  23.64  23.78  23.91  24.05  26.05  26.21   \n5846  ...  29.07  29.13  21.80  21.90  23.64  23.78  23.91  24.05  26.05   \n5847  ...  28.20  29.07  21.70  21.80  21.90  23.64  23.78  23.91  24.05   \n\n       t1-1  \n7      8.89  \n8      8.85  \n9      8.82  \n10     8.78  \n11     8.74  \n...     ...  \n5843  27.89  \n5844  26.52  \n5845  26.36  \n5846  26.21  \n5847  26.05  \n\n[5841 rows x 33 columns]",
      "text/html": "<div>\n<style scoped>\n    .dataframe tbody tr th:only-of-type {\n        vertical-align: middle;\n    }\n\n    .dataframe tbody tr th {\n        vertical-align: top;\n    }\n\n    .dataframe thead th {\n        text-align: right;\n    }\n</style>\n<table border=\"1\" class=\"dataframe\">\n  <thead>\n    <tr style=\"text-align: right;\">\n      <th></th>\n      <th>t1</th>\n      <th>r1</th>\n      <th>dayofweek</th>\n      <th>startDate_year</th>\n      <th>startDate_month</th>\n      <th>startDate_day</th>\n      <th>startDate_hour</th>\n      <th>startDate_minute</th>\n      <th>holiday</th>\n      <th>schoolHoliday</th>\n      <th>...</th>\n      <th>t16</th>\n      <th>t17</th>\n      <th>t1-8</th>\n      <th>t1-7</th>\n      <th>t1-6</th>\n      <th>t1-5</th>\n      <th>t1-4</th>\n      <th>t1-3</th>\n      <th>t1-2</th>\n      <th>t1-1</th>\n    </tr>\n  </thead>\n  <tbody>\n    <tr>\n      <th>7</th>\n      <td>9.00</td>\n      <td>0.00</td>\n      <td>4</td>\n      <td>2015</td>\n      <td>5</td>\n      <td>1</td>\n      <td>1</td>\n      <td>30</td>\n      <td>1</td>\n      <td>0</td>\n      <td>...</td>\n      <td>9.48</td>\n      <td>9.54</td>\n      <td>8.68</td>\n      <td>8.70</td>\n      <td>8.72</td>\n      <td>8.74</td>\n      <td>8.78</td>\n      <td>8.82</td>\n      <td>8.85</td>\n      <td>8.89</td>\n    </tr>\n    <tr>\n      <th>8</th>\n      <td>8.89</td>\n      <td>0.00</td>\n      <td>4</td>\n      <td>2015</td>\n      <td>5</td>\n      <td>1</td>\n      <td>1</td>\n      <td>45</td>\n      <td>1</td>\n      <td>0</td>\n      <td>...</td>\n      <td>9.43</td>\n      <td>9.48</td>\n      <td>8.66</td>\n      <td>8.68</td>\n      <td>8.70</td>\n      <td>8.72</td>\n      <td>8.74</td>\n      <td>8.78</td>\n      <td>8.82</td>\n      <td>8.85</td>\n    </tr>\n    <tr>\n      <th>9</th>\n      <td>8.85</td>\n      <td>0.00</td>\n      <td>4</td>\n      <td>2015</td>\n      <td>5</td>\n      <td>1</td>\n      <td>2</td>\n      <td>0</td>\n      <td>1</td>\n      <td>0</td>\n      <td>...</td>\n      <td>9.37</td>\n      <td>9.43</td>\n      <td>8.61</td>\n      <td>8.66</td>\n      <td>8.68</td>\n      <td>8.70</td>\n      <td>8.72</td>\n      <td>8.74</td>\n      <td>8.78</td>\n      <td>8.82</td>\n    </tr>\n    <tr>\n      <th>10</th>\n      <td>8.82</td>\n      <td>0.00</td>\n      <td>4</td>\n      <td>2015</td>\n      <td>5</td>\n      <td>1</td>\n      <td>2</td>\n      <td>15</td>\n      <td>1</td>\n      <td>0</td>\n      <td>...</td>\n      <td>9.31</td>\n      <td>9.37</td>\n      <td>8.56</td>\n      <td>8.61</td>\n      <td>8.66</td>\n      <td>8.68</td>\n      <td>8.70</td>\n      <td>8.72</td>\n      <td>8.74</td>\n      <td>8.78</td>\n    </tr>\n    <tr>\n      <th>11</th>\n      <td>8.78</td>\n      <td>0.00</td>\n      <td>4</td>\n      <td>2015</td>\n      <td>5</td>\n      <td>1</td>\n      <td>2</td>\n      <td>30</td>\n      <td>1</td>\n      <td>0</td>\n      <td>...</td>\n      <td>9.21</td>\n      <td>9.31</td>\n      <td>8.51</td>\n      <td>8.56</td>\n      <td>8.61</td>\n      <td>8.66</td>\n      <td>8.68</td>\n      <td>8.70</td>\n      <td>8.72</td>\n      <td>8.74</td>\n    </tr>\n    <tr>\n      <th>...</th>\n      <td>...</td>\n      <td>...</td>\n      <td>...</td>\n      <td>...</td>\n      <td>...</td>\n      <td>...</td>\n      <td>...</td>\n      <td>...</td>\n      <td>...</td>\n      <td>...</td>\n      <td>...</td>\n      <td>...</td>\n      <td>...</td>\n      <td>...</td>\n      <td>...</td>\n      <td>...</td>\n      <td>...</td>\n      <td>...</td>\n      <td>...</td>\n      <td>...</td>\n      <td>...</td>\n    </tr>\n    <tr>\n      <th>5843</th>\n      <td>27.99</td>\n      <td>172.48</td>\n      <td>1</td>\n      <td>2015</td>\n      <td>6</td>\n      <td>30</td>\n      <td>20</td>\n      <td>30</td>\n      <td>0</td>\n      <td>0</td>\n      <td>...</td>\n      <td>29.27</td>\n      <td>29.68</td>\n      <td>23.78</td>\n      <td>23.91</td>\n      <td>24.05</td>\n      <td>26.05</td>\n      <td>26.21</td>\n      <td>26.36</td>\n      <td>26.52</td>\n      <td>27.89</td>\n    </tr>\n    <tr>\n      <th>5844</th>\n      <td>27.89</td>\n      <td>163.93</td>\n      <td>1</td>\n      <td>2015</td>\n      <td>6</td>\n      <td>30</td>\n      <td>20</td>\n      <td>45</td>\n      <td>0</td>\n      <td>0</td>\n      <td>...</td>\n      <td>29.20</td>\n      <td>29.27</td>\n      <td>23.64</td>\n      <td>23.78</td>\n      <td>23.91</td>\n      <td>24.05</td>\n      <td>26.05</td>\n      <td>26.21</td>\n      <td>26.36</td>\n      <td>26.52</td>\n    </tr>\n    <tr>\n      <th>5845</th>\n      <td>26.52</td>\n      <td>57.61</td>\n      <td>1</td>\n      <td>2015</td>\n      <td>6</td>\n      <td>30</td>\n      <td>21</td>\n      <td>0</td>\n      <td>0</td>\n      <td>0</td>\n      <td>...</td>\n      <td>29.13</td>\n      <td>29.20</td>\n      <td>21.90</td>\n      <td>23.64</td>\n      <td>23.78</td>\n      <td>23.91</td>\n      <td>24.05</td>\n      <td>26.05</td>\n      <td>26.21</td>\n      <td>26.36</td>\n    </tr>\n    <tr>\n      <th>5846</th>\n      <td>26.36</td>\n      <td>53.94</td>\n      <td>1</td>\n      <td>2015</td>\n      <td>6</td>\n      <td>30</td>\n      <td>21</td>\n      <td>15</td>\n      <td>0</td>\n      <td>0</td>\n      <td>...</td>\n      <td>29.07</td>\n      <td>29.13</td>\n      <td>21.80</td>\n      <td>21.90</td>\n      <td>23.64</td>\n      <td>23.78</td>\n      <td>23.91</td>\n      <td>24.05</td>\n      <td>26.05</td>\n      <td>26.21</td>\n    </tr>\n    <tr>\n      <th>5847</th>\n      <td>26.21</td>\n      <td>50.26</td>\n      <td>1</td>\n      <td>2015</td>\n      <td>6</td>\n      <td>30</td>\n      <td>21</td>\n      <td>30</td>\n      <td>0</td>\n      <td>0</td>\n      <td>...</td>\n      <td>28.20</td>\n      <td>29.07</td>\n      <td>21.70</td>\n      <td>21.80</td>\n      <td>21.90</td>\n      <td>23.64</td>\n      <td>23.78</td>\n      <td>23.91</td>\n      <td>24.05</td>\n      <td>26.05</td>\n    </tr>\n  </tbody>\n</table>\n<p>5841 rows × 33 columns</p>\n</div>"
     },
     "execution_count": 18,
     "metadata": {},
     "output_type": "execute_result"
    }
   ],
   "source": [
    "data"
   ],
   "metadata": {
    "collapsed": false,
    "ExecuteTime": {
     "end_time": "2024-03-15T17:47:52.015660Z",
     "start_time": "2024-03-15T17:47:51.978657Z"
    }
   },
   "id": "a07fc0e71f4354a7"
  },
  {
   "cell_type": "code",
   "execution_count": 19,
   "outputs": [
    {
     "data": {
      "text/plain": "array([62.12676 , 61.91725 , 60.91216 , ..., 98.31849 , 97.850525,\n       97.45903 ], dtype=float32)"
     },
     "execution_count": 19,
     "metadata": {},
     "output_type": "execute_result"
    }
   ],
   "source": [
    "result = model.predict(data)\n",
    "result"
   ],
   "metadata": {
    "collapsed": false,
    "ExecuteTime": {
     "end_time": "2024-03-15T17:47:52.098615Z",
     "start_time": "2024-03-15T17:47:52.014707Z"
    }
   },
   "id": "6f81bb7b46e8ec9a"
  },
  {
   "cell_type": "code",
   "execution_count": 20,
   "outputs": [],
   "source": [
    "import os\n",
    "path = f\"../result/\"\n",
    "# Erstelle den Ordner, falls er nicht existiert\n",
    "if not os.path.exists(path):\n",
    "    os.makedirs(path)\n",
    "\n",
    "import pandas as pd"
   ],
   "metadata": {
    "collapsed": false,
    "ExecuteTime": {
     "end_time": "2024-03-15T17:47:52.129581Z",
     "start_time": "2024-03-15T17:47:52.093485Z"
    }
   },
   "id": "567cc1ebd85717f8"
  },
  {
   "cell_type": "code",
   "execution_count": 21,
   "outputs": [],
   "source": [
    "data['predicted_load']=result\n",
    "pd.DataFrame(data).to_csv(path+dataset+'.csv')\n"
   ],
   "metadata": {
    "collapsed": false,
    "ExecuteTime": {
     "end_time": "2024-03-15T17:47:52.214645Z",
     "start_time": "2024-03-15T17:47:52.128875Z"
    }
   },
   "id": "108beef8498e2ad4"
  },
  {
   "cell_type": "code",
   "execution_count": 21,
   "outputs": [],
   "source": [],
   "metadata": {
    "collapsed": false,
    "ExecuteTime": {
     "end_time": "2024-03-15T17:47:52.217144Z",
     "start_time": "2024-03-15T17:47:52.215214Z"
    }
   },
   "id": "c46bf4d2bb5381a5"
  }
 ],
 "metadata": {
  "kernelspec": {
   "display_name": "Python 3",
   "language": "python",
   "name": "python3"
  },
  "language_info": {
   "codemirror_mode": {
    "name": "ipython",
    "version": 2
   },
   "file_extension": ".py",
   "mimetype": "text/x-python",
   "name": "python",
   "nbconvert_exporter": "python",
   "pygments_lexer": "ipython2",
   "version": "2.7.6"
  }
 },
 "nbformat": 4,
 "nbformat_minor": 5
}
