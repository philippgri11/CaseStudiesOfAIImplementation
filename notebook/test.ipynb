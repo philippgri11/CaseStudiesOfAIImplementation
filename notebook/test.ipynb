{
 "cells": [
  {
   "cell_type": "code",
   "execution_count": 18,
   "id": "initial_id",
   "metadata": {
    "collapsed": true,
    "ExecuteTime": {
     "end_time": "2023-10-19T18:46:33.415493151Z",
     "start_time": "2023-10-19T18:46:32.595957614Z"
    }
   },
   "outputs": [
    {
     "name": "stdout",
     "output_type": "stream",
     "text": [
      "The autoreload extension is already loaded. To reload it, use:\n",
      "  %reload_ext autoreload\n"
     ]
    },
    {
     "name": "stderr",
     "output_type": "stream",
     "text": [
      "/home/philipp/Dokumente/git/CaseStudiesOfAIImplementation/src/loadData.py:61: SettingWithCopyWarning: \n",
      "A value is trying to be set on a copy of a slice from a DataFrame.\n",
      "Try using .loc[row_indexer,col_indexer] = value instead\n",
      "\n",
      "See the caveats in the documentation: https://pandas.pydata.org/pandas-docs/stable/user_guide/indexing.html#returning-a-view-versus-a-copy\n",
      "  df['electricLoad'] = df['electricLoad'].astype(float)\n"
     ]
    },
    {
     "data": {
      "text/plain": "        electricLoad    t1    t2   r1   r2  dayofweek  startDate_year  \\\n0              67.75  8.83  8.40  0.0  0.0          6            2012   \n1              65.78  8.83  8.40  0.0  0.0          6            2012   \n2              66.17  8.83  8.40  0.0  0.0          6            2012   \n3              65.81  8.83  8.40  0.0  0.0          6            2012   \n4              64.24  8.89  8.50  0.0  0.0          6            2012   \n...              ...   ...   ...  ...  ...        ...             ...   \n105211         66.64 -0.79  0.40  0.0  0.0          2            2014   \n105212         67.51 -0.78  0.38  0.0  0.0          2            2014   \n105213         67.17 -0.76  0.35  0.0  0.0          2            2014   \n105214         68.00 -0.74  0.33  0.0  0.0          2            2014   \n105215         66.50 -0.73  0.30  0.0  0.0          2            2014   \n\n        startDate_month  startDate_day  startDate_hour  startDate_minute  \n0                     1              1               0                 0  \n1                     1              1               0                15  \n2                     1              1               0                30  \n3                     1              1               0                45  \n4                     1              1               1                 0  \n...                 ...            ...             ...               ...  \n105211               12             31              22                45  \n105212               12             31              23                 0  \n105213               12             31              23                15  \n105214               12             31              23                30  \n105215               12             31              23                45  \n\n[105216 rows x 11 columns]",
      "text/html": "<div>\n<style scoped>\n    .dataframe tbody tr th:only-of-type {\n        vertical-align: middle;\n    }\n\n    .dataframe tbody tr th {\n        vertical-align: top;\n    }\n\n    .dataframe thead th {\n        text-align: right;\n    }\n</style>\n<table border=\"1\" class=\"dataframe\">\n  <thead>\n    <tr style=\"text-align: right;\">\n      <th></th>\n      <th>electricLoad</th>\n      <th>t1</th>\n      <th>t2</th>\n      <th>r1</th>\n      <th>r2</th>\n      <th>dayofweek</th>\n      <th>startDate_year</th>\n      <th>startDate_month</th>\n      <th>startDate_day</th>\n      <th>startDate_hour</th>\n      <th>startDate_minute</th>\n    </tr>\n  </thead>\n  <tbody>\n    <tr>\n      <th>0</th>\n      <td>67.75</td>\n      <td>8.83</td>\n      <td>8.40</td>\n      <td>0.0</td>\n      <td>0.0</td>\n      <td>6</td>\n      <td>2012</td>\n      <td>1</td>\n      <td>1</td>\n      <td>0</td>\n      <td>0</td>\n    </tr>\n    <tr>\n      <th>1</th>\n      <td>65.78</td>\n      <td>8.83</td>\n      <td>8.40</td>\n      <td>0.0</td>\n      <td>0.0</td>\n      <td>6</td>\n      <td>2012</td>\n      <td>1</td>\n      <td>1</td>\n      <td>0</td>\n      <td>15</td>\n    </tr>\n    <tr>\n      <th>2</th>\n      <td>66.17</td>\n      <td>8.83</td>\n      <td>8.40</td>\n      <td>0.0</td>\n      <td>0.0</td>\n      <td>6</td>\n      <td>2012</td>\n      <td>1</td>\n      <td>1</td>\n      <td>0</td>\n      <td>30</td>\n    </tr>\n    <tr>\n      <th>3</th>\n      <td>65.81</td>\n      <td>8.83</td>\n      <td>8.40</td>\n      <td>0.0</td>\n      <td>0.0</td>\n      <td>6</td>\n      <td>2012</td>\n      <td>1</td>\n      <td>1</td>\n      <td>0</td>\n      <td>45</td>\n    </tr>\n    <tr>\n      <th>4</th>\n      <td>64.24</td>\n      <td>8.89</td>\n      <td>8.50</td>\n      <td>0.0</td>\n      <td>0.0</td>\n      <td>6</td>\n      <td>2012</td>\n      <td>1</td>\n      <td>1</td>\n      <td>1</td>\n      <td>0</td>\n    </tr>\n    <tr>\n      <th>...</th>\n      <td>...</td>\n      <td>...</td>\n      <td>...</td>\n      <td>...</td>\n      <td>...</td>\n      <td>...</td>\n      <td>...</td>\n      <td>...</td>\n      <td>...</td>\n      <td>...</td>\n      <td>...</td>\n    </tr>\n    <tr>\n      <th>105211</th>\n      <td>66.64</td>\n      <td>-0.79</td>\n      <td>0.40</td>\n      <td>0.0</td>\n      <td>0.0</td>\n      <td>2</td>\n      <td>2014</td>\n      <td>12</td>\n      <td>31</td>\n      <td>22</td>\n      <td>45</td>\n    </tr>\n    <tr>\n      <th>105212</th>\n      <td>67.51</td>\n      <td>-0.78</td>\n      <td>0.38</td>\n      <td>0.0</td>\n      <td>0.0</td>\n      <td>2</td>\n      <td>2014</td>\n      <td>12</td>\n      <td>31</td>\n      <td>23</td>\n      <td>0</td>\n    </tr>\n    <tr>\n      <th>105213</th>\n      <td>67.17</td>\n      <td>-0.76</td>\n      <td>0.35</td>\n      <td>0.0</td>\n      <td>0.0</td>\n      <td>2</td>\n      <td>2014</td>\n      <td>12</td>\n      <td>31</td>\n      <td>23</td>\n      <td>15</td>\n    </tr>\n    <tr>\n      <th>105214</th>\n      <td>68.00</td>\n      <td>-0.74</td>\n      <td>0.33</td>\n      <td>0.0</td>\n      <td>0.0</td>\n      <td>2</td>\n      <td>2014</td>\n      <td>12</td>\n      <td>31</td>\n      <td>23</td>\n      <td>30</td>\n    </tr>\n    <tr>\n      <th>105215</th>\n      <td>66.50</td>\n      <td>-0.73</td>\n      <td>0.30</td>\n      <td>0.0</td>\n      <td>0.0</td>\n      <td>2</td>\n      <td>2014</td>\n      <td>12</td>\n      <td>31</td>\n      <td>23</td>\n      <td>45</td>\n    </tr>\n  </tbody>\n</table>\n<p>105216 rows × 11 columns</p>\n</div>"
     },
     "execution_count": 18,
     "metadata": {},
     "output_type": "execute_result"
    }
   ],
   "source": [
    "import pandas as pd\n",
    "\n",
    "from src.loadData import getData, readLoadCurveTwoToDataframe\n",
    "%load_ext autoreload\n",
    "%autoreload 2\n",
    "loadCurve = readLoadCurveTwoToDataframe(\"../data/training_data_period_2.csv\")\n",
    "loadCurve\n"
   ]
  },
  {
   "cell_type": "code",
   "execution_count": 17,
   "outputs": [
    {
     "data": {
      "text/plain": "                 startDate  electricLoad    t1    t2   r1   r2  daylight_phase\n0      2012-01-01 00:00:00         67.75  8.83  8.40  0.0  0.0               4\n1      2012-01-01 00:15:00         65.78  8.83  8.40  0.0  0.0               4\n2      2012-01-01 00:30:00         66.17  8.83  8.40  0.0  0.0               4\n3      2012-01-01 00:45:00         65.81  8.83  8.40  0.0  0.0               4\n4      2012-01-01 01:00:00         64.24  8.89  8.50  0.0  0.0               4\n...                    ...           ...   ...   ...  ...  ...             ...\n105211 2014-12-31 22:45:00         66.64 -0.79  0.40  0.0  0.0               4\n105212 2014-12-31 23:00:00         67.51 -0.78  0.38  0.0  0.0               4\n105213 2014-12-31 23:15:00         67.17 -0.76  0.35  0.0  0.0               4\n105214 2014-12-31 23:30:00         68.00 -0.74  0.33  0.0  0.0               4\n105215 2014-12-31 23:45:00         66.50 -0.73  0.30  0.0  0.0               4\n\n[105216 rows x 7 columns]",
      "text/html": "<div>\n<style scoped>\n    .dataframe tbody tr th:only-of-type {\n        vertical-align: middle;\n    }\n\n    .dataframe tbody tr th {\n        vertical-align: top;\n    }\n\n    .dataframe thead th {\n        text-align: right;\n    }\n</style>\n<table border=\"1\" class=\"dataframe\">\n  <thead>\n    <tr style=\"text-align: right;\">\n      <th></th>\n      <th>startDate</th>\n      <th>electricLoad</th>\n      <th>t1</th>\n      <th>t2</th>\n      <th>r1</th>\n      <th>r2</th>\n      <th>daylight_phase</th>\n    </tr>\n  </thead>\n  <tbody>\n    <tr>\n      <th>0</th>\n      <td>2012-01-01 00:00:00</td>\n      <td>67.75</td>\n      <td>8.83</td>\n      <td>8.40</td>\n      <td>0.0</td>\n      <td>0.0</td>\n      <td>4</td>\n    </tr>\n    <tr>\n      <th>1</th>\n      <td>2012-01-01 00:15:00</td>\n      <td>65.78</td>\n      <td>8.83</td>\n      <td>8.40</td>\n      <td>0.0</td>\n      <td>0.0</td>\n      <td>4</td>\n    </tr>\n    <tr>\n      <th>2</th>\n      <td>2012-01-01 00:30:00</td>\n      <td>66.17</td>\n      <td>8.83</td>\n      <td>8.40</td>\n      <td>0.0</td>\n      <td>0.0</td>\n      <td>4</td>\n    </tr>\n    <tr>\n      <th>3</th>\n      <td>2012-01-01 00:45:00</td>\n      <td>65.81</td>\n      <td>8.83</td>\n      <td>8.40</td>\n      <td>0.0</td>\n      <td>0.0</td>\n      <td>4</td>\n    </tr>\n    <tr>\n      <th>4</th>\n      <td>2012-01-01 01:00:00</td>\n      <td>64.24</td>\n      <td>8.89</td>\n      <td>8.50</td>\n      <td>0.0</td>\n      <td>0.0</td>\n      <td>4</td>\n    </tr>\n    <tr>\n      <th>...</th>\n      <td>...</td>\n      <td>...</td>\n      <td>...</td>\n      <td>...</td>\n      <td>...</td>\n      <td>...</td>\n      <td>...</td>\n    </tr>\n    <tr>\n      <th>105211</th>\n      <td>2014-12-31 22:45:00</td>\n      <td>66.64</td>\n      <td>-0.79</td>\n      <td>0.40</td>\n      <td>0.0</td>\n      <td>0.0</td>\n      <td>4</td>\n    </tr>\n    <tr>\n      <th>105212</th>\n      <td>2014-12-31 23:00:00</td>\n      <td>67.51</td>\n      <td>-0.78</td>\n      <td>0.38</td>\n      <td>0.0</td>\n      <td>0.0</td>\n      <td>4</td>\n    </tr>\n    <tr>\n      <th>105213</th>\n      <td>2014-12-31 23:15:00</td>\n      <td>67.17</td>\n      <td>-0.76</td>\n      <td>0.35</td>\n      <td>0.0</td>\n      <td>0.0</td>\n      <td>4</td>\n    </tr>\n    <tr>\n      <th>105214</th>\n      <td>2014-12-31 23:30:00</td>\n      <td>68.00</td>\n      <td>-0.74</td>\n      <td>0.33</td>\n      <td>0.0</td>\n      <td>0.0</td>\n      <td>4</td>\n    </tr>\n    <tr>\n      <th>105215</th>\n      <td>2014-12-31 23:45:00</td>\n      <td>66.50</td>\n      <td>-0.73</td>\n      <td>0.30</td>\n      <td>0.0</td>\n      <td>0.0</td>\n      <td>4</td>\n    </tr>\n  </tbody>\n</table>\n<p>105216 rows × 7 columns</p>\n</div>"
     },
     "execution_count": 17,
     "metadata": {},
     "output_type": "execute_result"
    }
   ],
   "source": [
    "loadCurve"
   ],
   "metadata": {
    "collapsed": false,
    "ExecuteTime": {
     "end_time": "2023-10-19T18:46:27.685871269Z",
     "start_time": "2023-10-19T18:46:27.636566517Z"
    }
   },
   "id": "719fb193827e6810"
  },
  {
   "cell_type": "code",
   "execution_count": 24,
   "outputs": [],
   "source": [
    "from src.preprocessing import set_daytime_index\n",
    "\n",
    "set_daytime_index(loadCurve)"
   ],
   "metadata": {
    "collapsed": false,
    "ExecuteTime": {
     "end_time": "2023-10-19T18:54:04.200755468Z",
     "start_time": "2023-10-19T18:53:15.562745964Z"
    }
   },
   "id": "9df103ef4a91caf0"
  },
  {
   "cell_type": "code",
   "execution_count": 55,
   "outputs": [
    {
     "data": {
      "text/plain": "        electricLoad    t1    t2   r1   r2  dayofweek  startDate_year  \\\n0              67.75  8.83  8.40  0.0  0.0          6            2012   \n1              65.78  8.83  8.40  0.0  0.0          6            2012   \n2              66.17  8.83  8.40  0.0  0.0          6            2012   \n3              65.81  8.83  8.40  0.0  0.0          6            2012   \n4              64.24  8.89  8.50  0.0  0.0          6            2012   \n...              ...   ...   ...  ...  ...        ...             ...   \n105211         66.64 -0.79  0.40  0.0  0.0          2            2014   \n105212         67.51 -0.78  0.38  0.0  0.0          2            2014   \n105213         67.17 -0.76  0.35  0.0  0.0          2            2014   \n105214         68.00 -0.74  0.33  0.0  0.0          2            2014   \n105215         66.50 -0.73  0.30  0.0  0.0          2            2014   \n\n        startDate_month  startDate_day  startDate_hour  startDate_minute  \\\n0                     1              1               0                 0   \n1                     1              1               0                15   \n2                     1              1               0                30   \n3                     1              1               0                45   \n4                     1              1               1                 0   \n...                 ...            ...             ...               ...   \n105211               12             31              22                45   \n105212               12             31              23                 0   \n105213               12             31              23                15   \n105214               12             31              23                30   \n105215               12             31              23                45   \n\n        daylight_phase    date_str  \n0                    4  2012-01-01  \n1                    4  2012-01-01  \n2                    4  2012-01-01  \n3                    4  2012-01-01  \n4                    4  2012-01-01  \n...                ...         ...  \n105211               4  2014-12-31  \n105212               4  2014-12-31  \n105213               4  2014-12-31  \n105214               4  2014-12-31  \n105215               4  2014-12-31  \n\n[105216 rows x 13 columns]",
      "text/html": "<div>\n<style scoped>\n    .dataframe tbody tr th:only-of-type {\n        vertical-align: middle;\n    }\n\n    .dataframe tbody tr th {\n        vertical-align: top;\n    }\n\n    .dataframe thead th {\n        text-align: right;\n    }\n</style>\n<table border=\"1\" class=\"dataframe\">\n  <thead>\n    <tr style=\"text-align: right;\">\n      <th></th>\n      <th>electricLoad</th>\n      <th>t1</th>\n      <th>t2</th>\n      <th>r1</th>\n      <th>r2</th>\n      <th>dayofweek</th>\n      <th>startDate_year</th>\n      <th>startDate_month</th>\n      <th>startDate_day</th>\n      <th>startDate_hour</th>\n      <th>startDate_minute</th>\n      <th>daylight_phase</th>\n      <th>date_str</th>\n    </tr>\n  </thead>\n  <tbody>\n    <tr>\n      <th>0</th>\n      <td>67.75</td>\n      <td>8.83</td>\n      <td>8.40</td>\n      <td>0.0</td>\n      <td>0.0</td>\n      <td>6</td>\n      <td>2012</td>\n      <td>1</td>\n      <td>1</td>\n      <td>0</td>\n      <td>0</td>\n      <td>4</td>\n      <td>2012-01-01</td>\n    </tr>\n    <tr>\n      <th>1</th>\n      <td>65.78</td>\n      <td>8.83</td>\n      <td>8.40</td>\n      <td>0.0</td>\n      <td>0.0</td>\n      <td>6</td>\n      <td>2012</td>\n      <td>1</td>\n      <td>1</td>\n      <td>0</td>\n      <td>15</td>\n      <td>4</td>\n      <td>2012-01-01</td>\n    </tr>\n    <tr>\n      <th>2</th>\n      <td>66.17</td>\n      <td>8.83</td>\n      <td>8.40</td>\n      <td>0.0</td>\n      <td>0.0</td>\n      <td>6</td>\n      <td>2012</td>\n      <td>1</td>\n      <td>1</td>\n      <td>0</td>\n      <td>30</td>\n      <td>4</td>\n      <td>2012-01-01</td>\n    </tr>\n    <tr>\n      <th>3</th>\n      <td>65.81</td>\n      <td>8.83</td>\n      <td>8.40</td>\n      <td>0.0</td>\n      <td>0.0</td>\n      <td>6</td>\n      <td>2012</td>\n      <td>1</td>\n      <td>1</td>\n      <td>0</td>\n      <td>45</td>\n      <td>4</td>\n      <td>2012-01-01</td>\n    </tr>\n    <tr>\n      <th>4</th>\n      <td>64.24</td>\n      <td>8.89</td>\n      <td>8.50</td>\n      <td>0.0</td>\n      <td>0.0</td>\n      <td>6</td>\n      <td>2012</td>\n      <td>1</td>\n      <td>1</td>\n      <td>1</td>\n      <td>0</td>\n      <td>4</td>\n      <td>2012-01-01</td>\n    </tr>\n    <tr>\n      <th>...</th>\n      <td>...</td>\n      <td>...</td>\n      <td>...</td>\n      <td>...</td>\n      <td>...</td>\n      <td>...</td>\n      <td>...</td>\n      <td>...</td>\n      <td>...</td>\n      <td>...</td>\n      <td>...</td>\n      <td>...</td>\n      <td>...</td>\n    </tr>\n    <tr>\n      <th>105211</th>\n      <td>66.64</td>\n      <td>-0.79</td>\n      <td>0.40</td>\n      <td>0.0</td>\n      <td>0.0</td>\n      <td>2</td>\n      <td>2014</td>\n      <td>12</td>\n      <td>31</td>\n      <td>22</td>\n      <td>45</td>\n      <td>4</td>\n      <td>2014-12-31</td>\n    </tr>\n    <tr>\n      <th>105212</th>\n      <td>67.51</td>\n      <td>-0.78</td>\n      <td>0.38</td>\n      <td>0.0</td>\n      <td>0.0</td>\n      <td>2</td>\n      <td>2014</td>\n      <td>12</td>\n      <td>31</td>\n      <td>23</td>\n      <td>0</td>\n      <td>4</td>\n      <td>2014-12-31</td>\n    </tr>\n    <tr>\n      <th>105213</th>\n      <td>67.17</td>\n      <td>-0.76</td>\n      <td>0.35</td>\n      <td>0.0</td>\n      <td>0.0</td>\n      <td>2</td>\n      <td>2014</td>\n      <td>12</td>\n      <td>31</td>\n      <td>23</td>\n      <td>15</td>\n      <td>4</td>\n      <td>2014-12-31</td>\n    </tr>\n    <tr>\n      <th>105214</th>\n      <td>68.00</td>\n      <td>-0.74</td>\n      <td>0.33</td>\n      <td>0.0</td>\n      <td>0.0</td>\n      <td>2</td>\n      <td>2014</td>\n      <td>12</td>\n      <td>31</td>\n      <td>23</td>\n      <td>30</td>\n      <td>4</td>\n      <td>2014-12-31</td>\n    </tr>\n    <tr>\n      <th>105215</th>\n      <td>66.50</td>\n      <td>-0.73</td>\n      <td>0.30</td>\n      <td>0.0</td>\n      <td>0.0</td>\n      <td>2</td>\n      <td>2014</td>\n      <td>12</td>\n      <td>31</td>\n      <td>23</td>\n      <td>45</td>\n      <td>4</td>\n      <td>2014-12-31</td>\n    </tr>\n  </tbody>\n</table>\n<p>105216 rows × 13 columns</p>\n</div>"
     },
     "execution_count": 55,
     "metadata": {},
     "output_type": "execute_result"
    }
   ],
   "source": [
    "df = loadCurve\n",
    "df"
   ],
   "metadata": {
    "collapsed": false,
    "ExecuteTime": {
     "end_time": "2023-10-19T19:16:20.821385277Z",
     "start_time": "2023-10-19T19:16:20.716086536Z"
    }
   },
   "id": "f7efc46911eb051f"
  },
  {
   "cell_type": "code",
   "execution_count": 56,
   "outputs": [
    {
     "data": {
      "text/plain": "        electricLoad    t1    t2   r1   r2  dayofweek  startDate_year  \\\n0              67.75  8.83  8.40  0.0  0.0          6            2012   \n1              65.78  8.83  8.40  0.0  0.0          6            2012   \n2              66.17  8.83  8.40  0.0  0.0          6            2012   \n3              65.81  8.83  8.40  0.0  0.0          6            2012   \n4              64.24  8.89  8.50  0.0  0.0          6            2012   \n...              ...   ...   ...  ...  ...        ...             ...   \n105211         66.64 -0.79  0.40  0.0  0.0          2            2014   \n105212         67.51 -0.78  0.38  0.0  0.0          2            2014   \n105213         67.17 -0.76  0.35  0.0  0.0          2            2014   \n105214         68.00 -0.74  0.33  0.0  0.0          2            2014   \n105215         66.50 -0.73  0.30  0.0  0.0          2            2014   \n\n        startDate_month  startDate_day  startDate_hour  startDate_minute  \\\n0                     1              1               0                 0   \n1                     1              1               0                15   \n2                     1              1               0                30   \n3                     1              1               0                45   \n4                     1              1               1                 0   \n...                 ...            ...             ...               ...   \n105211               12             31              22                45   \n105212               12             31              23                 0   \n105213               12             31              23                15   \n105214               12             31              23                30   \n105215               12             31              23                45   \n\n        daylight_phase    date_str  avg_temperature_day  temp_diff_prev_day  \n0                    4  2012-01-01            10.478542            0.000000  \n1                    4  2012-01-01            10.478542            0.000000  \n2                    4  2012-01-01            10.478542            0.000000  \n3                    4  2012-01-01            10.478542            0.000000  \n4                    4  2012-01-01            10.478542            0.000000  \n...                ...         ...                  ...                 ...  \n105211               4  2014-12-31             0.067917            1.340104  \n105212               4  2014-12-31             0.067917            1.340104  \n105213               4  2014-12-31             0.067917            1.340104  \n105214               4  2014-12-31             0.067917            1.340104  \n105215               4  2014-12-31             0.067917            1.340104  \n\n[105216 rows x 15 columns]",
      "text/html": "<div>\n<style scoped>\n    .dataframe tbody tr th:only-of-type {\n        vertical-align: middle;\n    }\n\n    .dataframe tbody tr th {\n        vertical-align: top;\n    }\n\n    .dataframe thead th {\n        text-align: right;\n    }\n</style>\n<table border=\"1\" class=\"dataframe\">\n  <thead>\n    <tr style=\"text-align: right;\">\n      <th></th>\n      <th>electricLoad</th>\n      <th>t1</th>\n      <th>t2</th>\n      <th>r1</th>\n      <th>r2</th>\n      <th>dayofweek</th>\n      <th>startDate_year</th>\n      <th>startDate_month</th>\n      <th>startDate_day</th>\n      <th>startDate_hour</th>\n      <th>startDate_minute</th>\n      <th>daylight_phase</th>\n      <th>date_str</th>\n      <th>avg_temperature_day</th>\n      <th>temp_diff_prev_day</th>\n    </tr>\n  </thead>\n  <tbody>\n    <tr>\n      <th>0</th>\n      <td>67.75</td>\n      <td>8.83</td>\n      <td>8.40</td>\n      <td>0.0</td>\n      <td>0.0</td>\n      <td>6</td>\n      <td>2012</td>\n      <td>1</td>\n      <td>1</td>\n      <td>0</td>\n      <td>0</td>\n      <td>4</td>\n      <td>2012-01-01</td>\n      <td>10.478542</td>\n      <td>0.000000</td>\n    </tr>\n    <tr>\n      <th>1</th>\n      <td>65.78</td>\n      <td>8.83</td>\n      <td>8.40</td>\n      <td>0.0</td>\n      <td>0.0</td>\n      <td>6</td>\n      <td>2012</td>\n      <td>1</td>\n      <td>1</td>\n      <td>0</td>\n      <td>15</td>\n      <td>4</td>\n      <td>2012-01-01</td>\n      <td>10.478542</td>\n      <td>0.000000</td>\n    </tr>\n    <tr>\n      <th>2</th>\n      <td>66.17</td>\n      <td>8.83</td>\n      <td>8.40</td>\n      <td>0.0</td>\n      <td>0.0</td>\n      <td>6</td>\n      <td>2012</td>\n      <td>1</td>\n      <td>1</td>\n      <td>0</td>\n      <td>30</td>\n      <td>4</td>\n      <td>2012-01-01</td>\n      <td>10.478542</td>\n      <td>0.000000</td>\n    </tr>\n    <tr>\n      <th>3</th>\n      <td>65.81</td>\n      <td>8.83</td>\n      <td>8.40</td>\n      <td>0.0</td>\n      <td>0.0</td>\n      <td>6</td>\n      <td>2012</td>\n      <td>1</td>\n      <td>1</td>\n      <td>0</td>\n      <td>45</td>\n      <td>4</td>\n      <td>2012-01-01</td>\n      <td>10.478542</td>\n      <td>0.000000</td>\n    </tr>\n    <tr>\n      <th>4</th>\n      <td>64.24</td>\n      <td>8.89</td>\n      <td>8.50</td>\n      <td>0.0</td>\n      <td>0.0</td>\n      <td>6</td>\n      <td>2012</td>\n      <td>1</td>\n      <td>1</td>\n      <td>1</td>\n      <td>0</td>\n      <td>4</td>\n      <td>2012-01-01</td>\n      <td>10.478542</td>\n      <td>0.000000</td>\n    </tr>\n    <tr>\n      <th>...</th>\n      <td>...</td>\n      <td>...</td>\n      <td>...</td>\n      <td>...</td>\n      <td>...</td>\n      <td>...</td>\n      <td>...</td>\n      <td>...</td>\n      <td>...</td>\n      <td>...</td>\n      <td>...</td>\n      <td>...</td>\n      <td>...</td>\n      <td>...</td>\n      <td>...</td>\n    </tr>\n    <tr>\n      <th>105211</th>\n      <td>66.64</td>\n      <td>-0.79</td>\n      <td>0.40</td>\n      <td>0.0</td>\n      <td>0.0</td>\n      <td>2</td>\n      <td>2014</td>\n      <td>12</td>\n      <td>31</td>\n      <td>22</td>\n      <td>45</td>\n      <td>4</td>\n      <td>2014-12-31</td>\n      <td>0.067917</td>\n      <td>1.340104</td>\n    </tr>\n    <tr>\n      <th>105212</th>\n      <td>67.51</td>\n      <td>-0.78</td>\n      <td>0.38</td>\n      <td>0.0</td>\n      <td>0.0</td>\n      <td>2</td>\n      <td>2014</td>\n      <td>12</td>\n      <td>31</td>\n      <td>23</td>\n      <td>0</td>\n      <td>4</td>\n      <td>2014-12-31</td>\n      <td>0.067917</td>\n      <td>1.340104</td>\n    </tr>\n    <tr>\n      <th>105213</th>\n      <td>67.17</td>\n      <td>-0.76</td>\n      <td>0.35</td>\n      <td>0.0</td>\n      <td>0.0</td>\n      <td>2</td>\n      <td>2014</td>\n      <td>12</td>\n      <td>31</td>\n      <td>23</td>\n      <td>15</td>\n      <td>4</td>\n      <td>2014-12-31</td>\n      <td>0.067917</td>\n      <td>1.340104</td>\n    </tr>\n    <tr>\n      <th>105214</th>\n      <td>68.00</td>\n      <td>-0.74</td>\n      <td>0.33</td>\n      <td>0.0</td>\n      <td>0.0</td>\n      <td>2</td>\n      <td>2014</td>\n      <td>12</td>\n      <td>31</td>\n      <td>23</td>\n      <td>30</td>\n      <td>4</td>\n      <td>2014-12-31</td>\n      <td>0.067917</td>\n      <td>1.340104</td>\n    </tr>\n    <tr>\n      <th>105215</th>\n      <td>66.50</td>\n      <td>-0.73</td>\n      <td>0.30</td>\n      <td>0.0</td>\n      <td>0.0</td>\n      <td>2</td>\n      <td>2014</td>\n      <td>12</td>\n      <td>31</td>\n      <td>23</td>\n      <td>45</td>\n      <td>4</td>\n      <td>2014-12-31</td>\n      <td>0.067917</td>\n      <td>1.340104</td>\n    </tr>\n  </tbody>\n</table>\n<p>105216 rows × 15 columns</p>\n</div>"
     },
     "execution_count": 56,
     "metadata": {},
     "output_type": "execute_result"
    }
   ],
   "source": [
    "import pandas as pd\n",
    "df['date_str'] = df['startDate_year'].astype(str) + '-' + df['startDate_month'].astype(str).str.zfill(2) + '-' + df['startDate_day'].astype(str).str.zfill(2)\n",
    "daily_avg_temp = df.groupby('date_str')['t1'].mean().reset_index()\n",
    "daily_avg_temp.columns = ['date_str', 'avg_temperature_day']\n",
    "df = pd.merge(df,daily_avg_temp)\n",
    "df['temp_diff_prev_day'] = df['avg_temperature_day'] - df['avg_temperature_day'].shift(96)\n",
    "df.fillna(0, inplace=True)\n",
    "df"
   ],
   "metadata": {
    "collapsed": false,
    "ExecuteTime": {
     "end_time": "2023-10-19T19:16:22.106336280Z",
     "start_time": "2023-10-19T19:16:21.463958698Z"
    }
   },
   "id": "476e3e43954a1944"
  },
  {
   "cell_type": "code",
   "execution_count": 58,
   "outputs": [
    {
     "data": {
      "text/plain": "        electricLoad    t1    t2   r1   r2  dayofweek  startDate_year  \\\n0              67.75  8.83  8.40  0.0  0.0          6            2012   \n1              65.78  8.83  8.40  0.0  0.0          6            2012   \n2              66.17  8.83  8.40  0.0  0.0          6            2012   \n3              65.81  8.83  8.40  0.0  0.0          6            2012   \n4              64.24  8.89  8.50  0.0  0.0          6            2012   \n...              ...   ...   ...  ...  ...        ...             ...   \n105211         66.64 -0.79  0.40  0.0  0.0          2            2014   \n105212         67.51 -0.78  0.38  0.0  0.0          2            2014   \n105213         67.17 -0.76  0.35  0.0  0.0          2            2014   \n105214         68.00 -0.74  0.33  0.0  0.0          2            2014   \n105215         66.50 -0.73  0.30  0.0  0.0          2            2014   \n\n        startDate_month  startDate_day  startDate_hour  startDate_minute  \\\n0                     1              1               0                 0   \n1                     1              1               0                15   \n2                     1              1               0                30   \n3                     1              1               0                45   \n4                     1              1               1                 0   \n...                 ...            ...             ...               ...   \n105211               12             31              22                45   \n105212               12             31              23                 0   \n105213               12             31              23                15   \n105214               12             31              23                30   \n105215               12             31              23                45   \n\n        daylight_phase    date_str  avg_temperature_day  temp_diff_prev_day  \\\n0                    4  2012-01-01            10.478542            0.000000   \n1                    4  2012-01-01            10.478542            0.000000   \n2                    4  2012-01-01            10.478542            0.000000   \n3                    4  2012-01-01            10.478542            0.000000   \n4                    4  2012-01-01            10.478542            0.000000   \n...                ...         ...                  ...                 ...   \n105211               4  2014-12-31             0.067917            1.340104   \n105212               4  2014-12-31             0.067917            1.340104   \n105213               4  2014-12-31             0.067917            1.340104   \n105214               4  2014-12-31             0.067917            1.340104   \n105215               4  2014-12-31             0.067917            1.340104   \n\n       date_str_moth  avg_temperature_month  temp_diff_prev_month  \n0            2012-01              10.478542               0.00000  \n1            2012-01              10.478542               0.00000  \n2            2012-01              10.478542               0.00000  \n3            2012-01              10.478542               0.00000  \n4            2012-01              10.478542               0.00000  \n...              ...                    ...                   ...  \n105211       2014-12               0.067917              -3.36375  \n105212       2014-12               0.067917              -3.36375  \n105213       2014-12               0.067917              -3.36375  \n105214       2014-12               0.067917              -3.36375  \n105215       2014-12               0.067917              -3.36375  \n\n[105216 rows x 18 columns]",
      "text/html": "<div>\n<style scoped>\n    .dataframe tbody tr th:only-of-type {\n        vertical-align: middle;\n    }\n\n    .dataframe tbody tr th {\n        vertical-align: top;\n    }\n\n    .dataframe thead th {\n        text-align: right;\n    }\n</style>\n<table border=\"1\" class=\"dataframe\">\n  <thead>\n    <tr style=\"text-align: right;\">\n      <th></th>\n      <th>electricLoad</th>\n      <th>t1</th>\n      <th>t2</th>\n      <th>r1</th>\n      <th>r2</th>\n      <th>dayofweek</th>\n      <th>startDate_year</th>\n      <th>startDate_month</th>\n      <th>startDate_day</th>\n      <th>startDate_hour</th>\n      <th>startDate_minute</th>\n      <th>daylight_phase</th>\n      <th>date_str</th>\n      <th>avg_temperature_day</th>\n      <th>temp_diff_prev_day</th>\n      <th>date_str_moth</th>\n      <th>avg_temperature_month</th>\n      <th>temp_diff_prev_month</th>\n    </tr>\n  </thead>\n  <tbody>\n    <tr>\n      <th>0</th>\n      <td>67.75</td>\n      <td>8.83</td>\n      <td>8.40</td>\n      <td>0.0</td>\n      <td>0.0</td>\n      <td>6</td>\n      <td>2012</td>\n      <td>1</td>\n      <td>1</td>\n      <td>0</td>\n      <td>0</td>\n      <td>4</td>\n      <td>2012-01-01</td>\n      <td>10.478542</td>\n      <td>0.000000</td>\n      <td>2012-01</td>\n      <td>10.478542</td>\n      <td>0.00000</td>\n    </tr>\n    <tr>\n      <th>1</th>\n      <td>65.78</td>\n      <td>8.83</td>\n      <td>8.40</td>\n      <td>0.0</td>\n      <td>0.0</td>\n      <td>6</td>\n      <td>2012</td>\n      <td>1</td>\n      <td>1</td>\n      <td>0</td>\n      <td>15</td>\n      <td>4</td>\n      <td>2012-01-01</td>\n      <td>10.478542</td>\n      <td>0.000000</td>\n      <td>2012-01</td>\n      <td>10.478542</td>\n      <td>0.00000</td>\n    </tr>\n    <tr>\n      <th>2</th>\n      <td>66.17</td>\n      <td>8.83</td>\n      <td>8.40</td>\n      <td>0.0</td>\n      <td>0.0</td>\n      <td>6</td>\n      <td>2012</td>\n      <td>1</td>\n      <td>1</td>\n      <td>0</td>\n      <td>30</td>\n      <td>4</td>\n      <td>2012-01-01</td>\n      <td>10.478542</td>\n      <td>0.000000</td>\n      <td>2012-01</td>\n      <td>10.478542</td>\n      <td>0.00000</td>\n    </tr>\n    <tr>\n      <th>3</th>\n      <td>65.81</td>\n      <td>8.83</td>\n      <td>8.40</td>\n      <td>0.0</td>\n      <td>0.0</td>\n      <td>6</td>\n      <td>2012</td>\n      <td>1</td>\n      <td>1</td>\n      <td>0</td>\n      <td>45</td>\n      <td>4</td>\n      <td>2012-01-01</td>\n      <td>10.478542</td>\n      <td>0.000000</td>\n      <td>2012-01</td>\n      <td>10.478542</td>\n      <td>0.00000</td>\n    </tr>\n    <tr>\n      <th>4</th>\n      <td>64.24</td>\n      <td>8.89</td>\n      <td>8.50</td>\n      <td>0.0</td>\n      <td>0.0</td>\n      <td>6</td>\n      <td>2012</td>\n      <td>1</td>\n      <td>1</td>\n      <td>1</td>\n      <td>0</td>\n      <td>4</td>\n      <td>2012-01-01</td>\n      <td>10.478542</td>\n      <td>0.000000</td>\n      <td>2012-01</td>\n      <td>10.478542</td>\n      <td>0.00000</td>\n    </tr>\n    <tr>\n      <th>...</th>\n      <td>...</td>\n      <td>...</td>\n      <td>...</td>\n      <td>...</td>\n      <td>...</td>\n      <td>...</td>\n      <td>...</td>\n      <td>...</td>\n      <td>...</td>\n      <td>...</td>\n      <td>...</td>\n      <td>...</td>\n      <td>...</td>\n      <td>...</td>\n      <td>...</td>\n      <td>...</td>\n      <td>...</td>\n      <td>...</td>\n    </tr>\n    <tr>\n      <th>105211</th>\n      <td>66.64</td>\n      <td>-0.79</td>\n      <td>0.40</td>\n      <td>0.0</td>\n      <td>0.0</td>\n      <td>2</td>\n      <td>2014</td>\n      <td>12</td>\n      <td>31</td>\n      <td>22</td>\n      <td>45</td>\n      <td>4</td>\n      <td>2014-12-31</td>\n      <td>0.067917</td>\n      <td>1.340104</td>\n      <td>2014-12</td>\n      <td>0.067917</td>\n      <td>-3.36375</td>\n    </tr>\n    <tr>\n      <th>105212</th>\n      <td>67.51</td>\n      <td>-0.78</td>\n      <td>0.38</td>\n      <td>0.0</td>\n      <td>0.0</td>\n      <td>2</td>\n      <td>2014</td>\n      <td>12</td>\n      <td>31</td>\n      <td>23</td>\n      <td>0</td>\n      <td>4</td>\n      <td>2014-12-31</td>\n      <td>0.067917</td>\n      <td>1.340104</td>\n      <td>2014-12</td>\n      <td>0.067917</td>\n      <td>-3.36375</td>\n    </tr>\n    <tr>\n      <th>105213</th>\n      <td>67.17</td>\n      <td>-0.76</td>\n      <td>0.35</td>\n      <td>0.0</td>\n      <td>0.0</td>\n      <td>2</td>\n      <td>2014</td>\n      <td>12</td>\n      <td>31</td>\n      <td>23</td>\n      <td>15</td>\n      <td>4</td>\n      <td>2014-12-31</td>\n      <td>0.067917</td>\n      <td>1.340104</td>\n      <td>2014-12</td>\n      <td>0.067917</td>\n      <td>-3.36375</td>\n    </tr>\n    <tr>\n      <th>105214</th>\n      <td>68.00</td>\n      <td>-0.74</td>\n      <td>0.33</td>\n      <td>0.0</td>\n      <td>0.0</td>\n      <td>2</td>\n      <td>2014</td>\n      <td>12</td>\n      <td>31</td>\n      <td>23</td>\n      <td>30</td>\n      <td>4</td>\n      <td>2014-12-31</td>\n      <td>0.067917</td>\n      <td>1.340104</td>\n      <td>2014-12</td>\n      <td>0.067917</td>\n      <td>-3.36375</td>\n    </tr>\n    <tr>\n      <th>105215</th>\n      <td>66.50</td>\n      <td>-0.73</td>\n      <td>0.30</td>\n      <td>0.0</td>\n      <td>0.0</td>\n      <td>2</td>\n      <td>2014</td>\n      <td>12</td>\n      <td>31</td>\n      <td>23</td>\n      <td>45</td>\n      <td>4</td>\n      <td>2014-12-31</td>\n      <td>0.067917</td>\n      <td>1.340104</td>\n      <td>2014-12</td>\n      <td>0.067917</td>\n      <td>-3.36375</td>\n    </tr>\n  </tbody>\n</table>\n<p>105216 rows × 18 columns</p>\n</div>"
     },
     "execution_count": 58,
     "metadata": {},
     "output_type": "execute_result"
    }
   ],
   "source": [
    "df['date_str_moth'] = df['startDate_year'].astype(str) + '-' + df['startDate_month'].astype(str).str.zfill(2) \n",
    "daily_avg_temp = df.groupby('date_str')['t1'].mean().reset_index()\n",
    "daily_avg_temp.columns = ['date_str', 'avg_temperature_month']\n",
    "df = pd.merge(df,daily_avg_temp)\n",
    "df['temp_diff_prev_month'] = df['avg_temperature_month'] - df['avg_temperature_month'].shift(96*30)\n",
    "df.fillna(0, inplace=True)\n",
    "df"
   ],
   "metadata": {
    "collapsed": false,
    "ExecuteTime": {
     "end_time": "2023-10-19T19:17:09.133918037Z",
     "start_time": "2023-10-19T19:17:08.845822033Z"
    }
   },
   "id": "c59475ae1041d49"
  },
  {
   "cell_type": "code",
   "execution_count": 66,
   "outputs": [
    {
     "name": "stderr",
     "output_type": "stream",
     "text": [
      "/home/philipp/Dokumente/git/CaseStudiesOfAIImplementation/src/loadData.py:61: SettingWithCopyWarning: \n",
      "A value is trying to be set on a copy of a slice from a DataFrame.\n",
      "Try using .loc[row_indexer,col_indexer] = value instead\n",
      "\n",
      "See the caveats in the documentation: https://pandas.pydata.org/pandas-docs/stable/user_guide/indexing.html#returning-a-view-versus-a-copy\n",
      "  df['electricLoad'] = df['electricLoad'].astype(float)\n"
     ]
    },
    {
     "data": {
      "text/plain": "        electricLoad    t1    t2   r1   r2  dayofweek  startDate_year  \\\n0              67.75  8.83  8.40  0.0  0.0          6            2012   \n1              65.78  8.83  8.40  0.0  0.0          6            2012   \n2              66.17  8.83  8.40  0.0  0.0          6            2012   \n3              65.81  8.83  8.40  0.0  0.0          6            2012   \n4              64.24  8.89  8.50  0.0  0.0          6            2012   \n...              ...   ...   ...  ...  ...        ...             ...   \n105211         66.64 -0.79  0.40  0.0  0.0          2            2014   \n105212         67.51 -0.78  0.38  0.0  0.0          2            2014   \n105213         67.17 -0.76  0.35  0.0  0.0          2            2014   \n105214         68.00 -0.74  0.33  0.0  0.0          2            2014   \n105215         66.50 -0.73  0.30  0.0  0.0          2            2014   \n\n        startDate_month  startDate_day  startDate_hour  startDate_minute  \\\n0                     1              1               0                 0   \n1                     1              1               0                15   \n2                     1              1               0                30   \n3                     1              1               0                45   \n4                     1              1               1                 0   \n...                 ...            ...             ...               ...   \n105211               12             31              22                45   \n105212               12             31              23                 0   \n105213               12             31              23                15   \n105214               12             31              23                30   \n105215               12             31              23                45   \n\n        holiday  schoolHoliday  \n0             1              1  \n1             1              1  \n2             1              1  \n3             1              1  \n4             1              1  \n...         ...            ...  \n105211        0              1  \n105212        0              1  \n105213        0              1  \n105214        0              1  \n105215        0              1  \n\n[105216 rows x 13 columns]",
      "text/html": "<div>\n<style scoped>\n    .dataframe tbody tr th:only-of-type {\n        vertical-align: middle;\n    }\n\n    .dataframe tbody tr th {\n        vertical-align: top;\n    }\n\n    .dataframe thead th {\n        text-align: right;\n    }\n</style>\n<table border=\"1\" class=\"dataframe\">\n  <thead>\n    <tr style=\"text-align: right;\">\n      <th></th>\n      <th>electricLoad</th>\n      <th>t1</th>\n      <th>t2</th>\n      <th>r1</th>\n      <th>r2</th>\n      <th>dayofweek</th>\n      <th>startDate_year</th>\n      <th>startDate_month</th>\n      <th>startDate_day</th>\n      <th>startDate_hour</th>\n      <th>startDate_minute</th>\n      <th>holiday</th>\n      <th>schoolHoliday</th>\n    </tr>\n  </thead>\n  <tbody>\n    <tr>\n      <th>0</th>\n      <td>67.75</td>\n      <td>8.83</td>\n      <td>8.40</td>\n      <td>0.0</td>\n      <td>0.0</td>\n      <td>6</td>\n      <td>2012</td>\n      <td>1</td>\n      <td>1</td>\n      <td>0</td>\n      <td>0</td>\n      <td>1</td>\n      <td>1</td>\n    </tr>\n    <tr>\n      <th>1</th>\n      <td>65.78</td>\n      <td>8.83</td>\n      <td>8.40</td>\n      <td>0.0</td>\n      <td>0.0</td>\n      <td>6</td>\n      <td>2012</td>\n      <td>1</td>\n      <td>1</td>\n      <td>0</td>\n      <td>15</td>\n      <td>1</td>\n      <td>1</td>\n    </tr>\n    <tr>\n      <th>2</th>\n      <td>66.17</td>\n      <td>8.83</td>\n      <td>8.40</td>\n      <td>0.0</td>\n      <td>0.0</td>\n      <td>6</td>\n      <td>2012</td>\n      <td>1</td>\n      <td>1</td>\n      <td>0</td>\n      <td>30</td>\n      <td>1</td>\n      <td>1</td>\n    </tr>\n    <tr>\n      <th>3</th>\n      <td>65.81</td>\n      <td>8.83</td>\n      <td>8.40</td>\n      <td>0.0</td>\n      <td>0.0</td>\n      <td>6</td>\n      <td>2012</td>\n      <td>1</td>\n      <td>1</td>\n      <td>0</td>\n      <td>45</td>\n      <td>1</td>\n      <td>1</td>\n    </tr>\n    <tr>\n      <th>4</th>\n      <td>64.24</td>\n      <td>8.89</td>\n      <td>8.50</td>\n      <td>0.0</td>\n      <td>0.0</td>\n      <td>6</td>\n      <td>2012</td>\n      <td>1</td>\n      <td>1</td>\n      <td>1</td>\n      <td>0</td>\n      <td>1</td>\n      <td>1</td>\n    </tr>\n    <tr>\n      <th>...</th>\n      <td>...</td>\n      <td>...</td>\n      <td>...</td>\n      <td>...</td>\n      <td>...</td>\n      <td>...</td>\n      <td>...</td>\n      <td>...</td>\n      <td>...</td>\n      <td>...</td>\n      <td>...</td>\n      <td>...</td>\n      <td>...</td>\n    </tr>\n    <tr>\n      <th>105211</th>\n      <td>66.64</td>\n      <td>-0.79</td>\n      <td>0.40</td>\n      <td>0.0</td>\n      <td>0.0</td>\n      <td>2</td>\n      <td>2014</td>\n      <td>12</td>\n      <td>31</td>\n      <td>22</td>\n      <td>45</td>\n      <td>0</td>\n      <td>1</td>\n    </tr>\n    <tr>\n      <th>105212</th>\n      <td>67.51</td>\n      <td>-0.78</td>\n      <td>0.38</td>\n      <td>0.0</td>\n      <td>0.0</td>\n      <td>2</td>\n      <td>2014</td>\n      <td>12</td>\n      <td>31</td>\n      <td>23</td>\n      <td>0</td>\n      <td>0</td>\n      <td>1</td>\n    </tr>\n    <tr>\n      <th>105213</th>\n      <td>67.17</td>\n      <td>-0.76</td>\n      <td>0.35</td>\n      <td>0.0</td>\n      <td>0.0</td>\n      <td>2</td>\n      <td>2014</td>\n      <td>12</td>\n      <td>31</td>\n      <td>23</td>\n      <td>15</td>\n      <td>0</td>\n      <td>1</td>\n    </tr>\n    <tr>\n      <th>105214</th>\n      <td>68.00</td>\n      <td>-0.74</td>\n      <td>0.33</td>\n      <td>0.0</td>\n      <td>0.0</td>\n      <td>2</td>\n      <td>2014</td>\n      <td>12</td>\n      <td>31</td>\n      <td>23</td>\n      <td>30</td>\n      <td>0</td>\n      <td>1</td>\n    </tr>\n    <tr>\n      <th>105215</th>\n      <td>66.50</td>\n      <td>-0.73</td>\n      <td>0.30</td>\n      <td>0.0</td>\n      <td>0.0</td>\n      <td>2</td>\n      <td>2014</td>\n      <td>12</td>\n      <td>31</td>\n      <td>23</td>\n      <td>45</td>\n      <td>0</td>\n      <td>1</td>\n    </tr>\n  </tbody>\n</table>\n<p>105216 rows × 13 columns</p>\n</div>"
     },
     "execution_count": 66,
     "metadata": {},
     "output_type": "execute_result"
    }
   ],
   "source": [
    "data = getData('loadCurveTwo')\n",
    "data"
   ],
   "metadata": {
    "collapsed": false,
    "ExecuteTime": {
     "end_time": "2023-10-19T19:42:16.141108842Z",
     "start_time": "2023-10-19T19:42:14.852625117Z"
    }
   },
   "id": "1f0605996818ea7d"
  },
  {
   "cell_type": "code",
   "execution_count": 70,
   "outputs": [
    {
     "data": {
      "text/plain": "        electricLoad    t1    t2   r1   r2  dayofweek  startDate_year  \\\n0              67.75  8.83  8.40  0.0  0.0          6            2012   \n1              65.78  8.83  8.40  0.0  0.0          6            2012   \n2              66.17  8.83  8.40  0.0  0.0          6            2012   \n3              65.81  8.83  8.40  0.0  0.0          6            2012   \n4              64.24  8.89  8.50  0.0  0.0          6            2012   \n...              ...   ...   ...  ...  ...        ...             ...   \n105211         66.64 -0.79  0.40  0.0  0.0          2            2014   \n105212         67.51 -0.78  0.38  0.0  0.0          2            2014   \n105213         67.17 -0.76  0.35  0.0  0.0          2            2014   \n105214         68.00 -0.74  0.33  0.0  0.0          2            2014   \n105215         66.50 -0.73  0.30  0.0  0.0          2            2014   \n\n        startDate_month  startDate_day  startDate_hour  startDate_minute  \\\n0                     1              1               0                 0   \n1                     1              1               0                15   \n2                     1              1               0                30   \n3                     1              1               0                45   \n4                     1              1               1                 0   \n...                 ...            ...             ...               ...   \n105211               12             31              22                45   \n105212               12             31              23                 0   \n105213               12             31              23                15   \n105214               12             31              23                30   \n105215               12             31              23                45   \n\n        holiday  schoolHoliday  avg_t1_month  t1_diff_prev_month  \\\n0             1              1      3.114036                 0.0   \n1             1              1      3.114036                 0.0   \n2             1              1      3.114036                 0.0   \n3             1              1      3.114036                 0.0   \n4             1              1      3.114036                 0.0   \n...         ...            ...           ...                 ...   \n105211        0              1      4.063911                 0.0   \n105212        0              1      4.063911                 0.0   \n105213        0              1      4.063911                 0.0   \n105214        0              1      4.063911                 0.0   \n105215        0              1      4.063911                 0.0   \n\n        r1_diff_prev_month  avg_t1_day  t1_diff_prev_day  r1_diff_prev_day  \n0                      0.0   10.478542          0.000000          0.000000  \n1                      0.0   10.478542          0.000000          0.000000  \n2                      0.0   10.478542          0.000000          0.000000  \n3                      0.0   10.478542          0.000000          0.000000  \n4                      0.0   10.478542          0.000000          0.000000  \n...                    ...         ...               ...               ...  \n105211                 0.0    0.067917          1.340104          4.078125  \n105212                 0.0    0.067917          1.340104          4.078125  \n105213                 0.0    0.067917          1.340104          4.078125  \n105214                 0.0    0.067917          1.340104          4.078125  \n105215                 0.0    0.067917          1.340104          4.078125  \n\n[105216 rows x 19 columns]",
      "text/html": "<div>\n<style scoped>\n    .dataframe tbody tr th:only-of-type {\n        vertical-align: middle;\n    }\n\n    .dataframe tbody tr th {\n        vertical-align: top;\n    }\n\n    .dataframe thead th {\n        text-align: right;\n    }\n</style>\n<table border=\"1\" class=\"dataframe\">\n  <thead>\n    <tr style=\"text-align: right;\">\n      <th></th>\n      <th>electricLoad</th>\n      <th>t1</th>\n      <th>t2</th>\n      <th>r1</th>\n      <th>r2</th>\n      <th>dayofweek</th>\n      <th>startDate_year</th>\n      <th>startDate_month</th>\n      <th>startDate_day</th>\n      <th>startDate_hour</th>\n      <th>startDate_minute</th>\n      <th>holiday</th>\n      <th>schoolHoliday</th>\n      <th>avg_t1_month</th>\n      <th>t1_diff_prev_month</th>\n      <th>r1_diff_prev_month</th>\n      <th>avg_t1_day</th>\n      <th>t1_diff_prev_day</th>\n      <th>r1_diff_prev_day</th>\n    </tr>\n  </thead>\n  <tbody>\n    <tr>\n      <th>0</th>\n      <td>67.75</td>\n      <td>8.83</td>\n      <td>8.40</td>\n      <td>0.0</td>\n      <td>0.0</td>\n      <td>6</td>\n      <td>2012</td>\n      <td>1</td>\n      <td>1</td>\n      <td>0</td>\n      <td>0</td>\n      <td>1</td>\n      <td>1</td>\n      <td>3.114036</td>\n      <td>0.0</td>\n      <td>0.0</td>\n      <td>10.478542</td>\n      <td>0.000000</td>\n      <td>0.000000</td>\n    </tr>\n    <tr>\n      <th>1</th>\n      <td>65.78</td>\n      <td>8.83</td>\n      <td>8.40</td>\n      <td>0.0</td>\n      <td>0.0</td>\n      <td>6</td>\n      <td>2012</td>\n      <td>1</td>\n      <td>1</td>\n      <td>0</td>\n      <td>15</td>\n      <td>1</td>\n      <td>1</td>\n      <td>3.114036</td>\n      <td>0.0</td>\n      <td>0.0</td>\n      <td>10.478542</td>\n      <td>0.000000</td>\n      <td>0.000000</td>\n    </tr>\n    <tr>\n      <th>2</th>\n      <td>66.17</td>\n      <td>8.83</td>\n      <td>8.40</td>\n      <td>0.0</td>\n      <td>0.0</td>\n      <td>6</td>\n      <td>2012</td>\n      <td>1</td>\n      <td>1</td>\n      <td>0</td>\n      <td>30</td>\n      <td>1</td>\n      <td>1</td>\n      <td>3.114036</td>\n      <td>0.0</td>\n      <td>0.0</td>\n      <td>10.478542</td>\n      <td>0.000000</td>\n      <td>0.000000</td>\n    </tr>\n    <tr>\n      <th>3</th>\n      <td>65.81</td>\n      <td>8.83</td>\n      <td>8.40</td>\n      <td>0.0</td>\n      <td>0.0</td>\n      <td>6</td>\n      <td>2012</td>\n      <td>1</td>\n      <td>1</td>\n      <td>0</td>\n      <td>45</td>\n      <td>1</td>\n      <td>1</td>\n      <td>3.114036</td>\n      <td>0.0</td>\n      <td>0.0</td>\n      <td>10.478542</td>\n      <td>0.000000</td>\n      <td>0.000000</td>\n    </tr>\n    <tr>\n      <th>4</th>\n      <td>64.24</td>\n      <td>8.89</td>\n      <td>8.50</td>\n      <td>0.0</td>\n      <td>0.0</td>\n      <td>6</td>\n      <td>2012</td>\n      <td>1</td>\n      <td>1</td>\n      <td>1</td>\n      <td>0</td>\n      <td>1</td>\n      <td>1</td>\n      <td>3.114036</td>\n      <td>0.0</td>\n      <td>0.0</td>\n      <td>10.478542</td>\n      <td>0.000000</td>\n      <td>0.000000</td>\n    </tr>\n    <tr>\n      <th>...</th>\n      <td>...</td>\n      <td>...</td>\n      <td>...</td>\n      <td>...</td>\n      <td>...</td>\n      <td>...</td>\n      <td>...</td>\n      <td>...</td>\n      <td>...</td>\n      <td>...</td>\n      <td>...</td>\n      <td>...</td>\n      <td>...</td>\n      <td>...</td>\n      <td>...</td>\n      <td>...</td>\n      <td>...</td>\n      <td>...</td>\n      <td>...</td>\n    </tr>\n    <tr>\n      <th>105211</th>\n      <td>66.64</td>\n      <td>-0.79</td>\n      <td>0.40</td>\n      <td>0.0</td>\n      <td>0.0</td>\n      <td>2</td>\n      <td>2014</td>\n      <td>12</td>\n      <td>31</td>\n      <td>22</td>\n      <td>45</td>\n      <td>0</td>\n      <td>1</td>\n      <td>4.063911</td>\n      <td>0.0</td>\n      <td>0.0</td>\n      <td>0.067917</td>\n      <td>1.340104</td>\n      <td>4.078125</td>\n    </tr>\n    <tr>\n      <th>105212</th>\n      <td>67.51</td>\n      <td>-0.78</td>\n      <td>0.38</td>\n      <td>0.0</td>\n      <td>0.0</td>\n      <td>2</td>\n      <td>2014</td>\n      <td>12</td>\n      <td>31</td>\n      <td>23</td>\n      <td>0</td>\n      <td>0</td>\n      <td>1</td>\n      <td>4.063911</td>\n      <td>0.0</td>\n      <td>0.0</td>\n      <td>0.067917</td>\n      <td>1.340104</td>\n      <td>4.078125</td>\n    </tr>\n    <tr>\n      <th>105213</th>\n      <td>67.17</td>\n      <td>-0.76</td>\n      <td>0.35</td>\n      <td>0.0</td>\n      <td>0.0</td>\n      <td>2</td>\n      <td>2014</td>\n      <td>12</td>\n      <td>31</td>\n      <td>23</td>\n      <td>15</td>\n      <td>0</td>\n      <td>1</td>\n      <td>4.063911</td>\n      <td>0.0</td>\n      <td>0.0</td>\n      <td>0.067917</td>\n      <td>1.340104</td>\n      <td>4.078125</td>\n    </tr>\n    <tr>\n      <th>105214</th>\n      <td>68.00</td>\n      <td>-0.74</td>\n      <td>0.33</td>\n      <td>0.0</td>\n      <td>0.0</td>\n      <td>2</td>\n      <td>2014</td>\n      <td>12</td>\n      <td>31</td>\n      <td>23</td>\n      <td>30</td>\n      <td>0</td>\n      <td>1</td>\n      <td>4.063911</td>\n      <td>0.0</td>\n      <td>0.0</td>\n      <td>0.067917</td>\n      <td>1.340104</td>\n      <td>4.078125</td>\n    </tr>\n    <tr>\n      <th>105215</th>\n      <td>66.50</td>\n      <td>-0.73</td>\n      <td>0.30</td>\n      <td>0.0</td>\n      <td>0.0</td>\n      <td>2</td>\n      <td>2014</td>\n      <td>12</td>\n      <td>31</td>\n      <td>23</td>\n      <td>45</td>\n      <td>0</td>\n      <td>1</td>\n      <td>4.063911</td>\n      <td>0.0</td>\n      <td>0.0</td>\n      <td>0.067917</td>\n      <td>1.340104</td>\n      <td>4.078125</td>\n    </tr>\n  </tbody>\n</table>\n<p>105216 rows × 19 columns</p>\n</div>"
     },
     "execution_count": 70,
     "metadata": {},
     "output_type": "execute_result"
    }
   ],
   "source": [
    "from src.preprocessing import monthly_diff, daily_diff\n",
    "\n",
    "data = daily_diff(data,['t1','r1'],[True, False])\n",
    "data"
   ],
   "metadata": {
    "collapsed": false,
    "ExecuteTime": {
     "end_time": "2023-10-19T19:47:40.699833617Z",
     "start_time": "2023-10-19T19:47:40.197329482Z"
    }
   },
   "id": "1957055baf5f10f7"
  },
  {
   "cell_type": "code",
   "execution_count": 61,
   "outputs": [
    {
     "data": {
      "text/plain": "(           t1     t2     r1     r2  dayofweek  startDate_year  \\\n 84171   16.76  13.60  77.14  43.00          0            2014   \n 84172   16.63  13.65  68.82  40.25          0            2014   \n 84173   16.50  13.70  60.50  37.50          0            2014   \n 84174   16.37  13.75  52.18  34.75          0            2014   \n 84175   16.24  13.80  43.86  32.00          0            2014   \n ...       ...    ...    ...    ...        ...             ...   \n 105208  -0.21   0.47   0.00   0.00          2            2014   \n 105209  -0.40   0.45   0.00   0.00          2            2014   \n 105210  -0.59   0.43   0.00   0.00          2            2014   \n 105211  -0.79   0.40   0.00   0.00          2            2014   \n 105212  -0.78   0.38   0.00   0.00          2            2014   \n \n         startDate_month  startDate_day  startDate_hour  startDate_minute  ...  \\\n 84171                 5             26              18                45  ...   \n 84172                 5             26              19                 0  ...   \n 84173                 5             26              19                15  ...   \n 84174                 5             26              19                30  ...   \n 84175                 5             26              19                45  ...   \n ...                 ...            ...             ...               ...  ...   \n 105208               12             31              22                 0  ...   \n 105209               12             31              22                15  ...   \n 105210               12             31              22                30  ...   \n 105211               12             31              22                45  ...   \n 105212               12             31              23                 0  ...   \n \n         holiday-3  schoolHoliday-3   t1-2   r1-2 holiday-2  schoolHoliday-2  \\\n 84171         0.0              0.0  16.50  60.50       0.0              0.0   \n 84172         0.0              0.0  16.37  52.18       0.0              0.0   \n 84173         0.0              0.0  16.24  43.86       0.0              0.0   \n 84174         0.0              0.0  16.02  36.89       0.0              0.0   \n 84175         0.0              0.0  15.80  29.93       0.0              0.0   \n ...           ...              ...    ...    ...       ...              ...   \n 105208        0.0              1.0  -0.59   0.00       0.0              1.0   \n 105209        0.0              1.0  -0.79   0.00       0.0              1.0   \n 105210        0.0              1.0  -0.78   0.00       0.0              1.0   \n 105211        0.0              1.0  -0.76   0.00       0.0              1.0   \n 105212        0.0              1.0  -0.74   0.00       0.0              1.0   \n \n          t1-1   r1-1  holiday-1  schoolHoliday-1  \n 84171   16.63  68.82        0.0              0.0  \n 84172   16.50  60.50        0.0              0.0  \n 84173   16.37  52.18        0.0              0.0  \n 84174   16.24  43.86        0.0              0.0  \n 84175   16.02  36.89        0.0              0.0  \n ...       ...    ...        ...              ...  \n 105208  -0.40   0.00        0.0              1.0  \n 105209  -0.59   0.00        0.0              1.0  \n 105210  -0.79   0.00        0.0              1.0  \n 105211  -0.78   0.00        0.0              1.0  \n 105212  -0.76   0.00        0.0              1.0  \n \n [21042 rows x 39 columns],\n 84171     47.30\n 84172     47.77\n 84173     46.67\n 84174     46.61\n 84175     46.16\n           ...  \n 105208    69.23\n 105209    69.56\n 105210    69.18\n 105211    66.64\n 105212    67.51\n Name: electricLoad, Length: 21042, dtype: float64,\n           t1     t2      r1     r2  dayofweek  startDate_year  \\\n 3       8.83   8.40    0.00   0.00          6            2012   \n 4       8.89   8.50    0.00   0.00          6            2012   \n 5       8.95   8.60    0.00   0.00          6            2012   \n 6       9.01   8.70    0.00   0.00          6            2012   \n 7       9.07   8.80    0.00   0.00          6            2012   \n ...      ...    ...     ...    ...        ...             ...   \n 84166  17.55  14.98  133.32  74.75          0            2014   \n 84167  17.26  14.30  117.29  75.00          0            2014   \n 84168  17.14  14.12  107.25  67.00          0            2014   \n 84169  17.01  13.95   97.22  59.00          0            2014   \n 84170  16.89  13.78   87.18  51.00          0            2014   \n \n        startDate_month  startDate_day  startDate_hour  startDate_minute  ...  \\\n 3                    1              1               0                45  ...   \n 4                    1              1               1                 0  ...   \n 5                    1              1               1                15  ...   \n 6                    1              1               1                30  ...   \n 7                    1              1               1                45  ...   \n ...                ...            ...             ...               ...  ...   \n 84166                5             26              17                30  ...   \n 84167                5             26              17                45  ...   \n 84168                5             26              18                 0  ...   \n 84169                5             26              18                15  ...   \n 84170                5             26              18                30  ...   \n \n        holiday-3  schoolHoliday-3   t1-2    r1-2 holiday-2  schoolHoliday-2  \\\n 3            1.0              1.0   8.95    0.00       1.0              1.0   \n 4            1.0              1.0   9.01    0.00       1.0              1.0   \n 5            1.0              1.0   9.07    0.00       1.0              1.0   \n 6            1.0              1.0   9.12    0.00       1.0              1.0   \n 7            1.0              1.0   9.18    0.00       1.0              1.0   \n ...          ...              ...    ...     ...       ...              ...   \n 84166        0.0              0.0  17.14  107.25       0.0              0.0   \n 84167        0.0              0.0  17.01   97.22       0.0              0.0   \n 84168        0.0              0.0  16.89   87.18       0.0              0.0   \n 84169        0.0              0.0  16.76   77.14       0.0              0.0   \n 84170        0.0              0.0  16.63   68.82       0.0              0.0   \n \n         t1-1    r1-1  holiday-1  schoolHoliday-1  \n 3       8.89    0.00        1.0              1.0  \n 4       8.95    0.00        1.0              1.0  \n 5       9.01    0.00        1.0              1.0  \n 6       9.07    0.00        1.0              1.0  \n 7       9.12    0.00        1.0              1.0  \n ...      ...     ...        ...              ...  \n 84166  17.26  117.29        0.0              0.0  \n 84167  17.14  107.25        0.0              0.0  \n 84168  17.01   97.22        0.0              0.0  \n 84169  16.89   87.18        0.0              0.0  \n 84170  16.76   77.14        0.0              0.0  \n \n [84168 rows x 39 columns],\n 3        65.81\n 4        64.24\n 5        63.22\n 6        61.71\n 7        60.30\n          ...  \n 84166    45.19\n 84167    45.97\n 84168    46.36\n 84169    46.90\n 84170    47.14\n Name: electricLoad, Length: 84168, dtype: float64)"
     },
     "execution_count": 61,
     "metadata": {},
     "output_type": "execute_result"
    }
   ],
   "source": [
    "\n",
    "data = preprocessing(data, 0.2,[ 't1' , 'r1',  'holiday', 'schoolHoliday'], 3,-3)\n",
    "data"
   ],
   "metadata": {
    "collapsed": false,
    "ExecuteTime": {
     "end_time": "2023-10-19T19:23:39.080449628Z",
     "start_time": "2023-10-19T19:23:30.058089823Z"
    }
   },
   "id": "e5ae28252733f6c"
  },
  {
   "cell_type": "code",
   "execution_count": null,
   "outputs": [],
   "source": [],
   "metadata": {
    "collapsed": false
   },
   "id": "fc5888f049395e7a"
  }
 ],
 "metadata": {
  "kernelspec": {
   "display_name": "Python 3",
   "language": "python",
   "name": "python3"
  },
  "language_info": {
   "codemirror_mode": {
    "name": "ipython",
    "version": 2
   },
   "file_extension": ".py",
   "mimetype": "text/x-python",
   "name": "python",
   "nbconvert_exporter": "python",
   "pygments_lexer": "ipython2",
   "version": "2.7.6"
  }
 },
 "nbformat": 4,
 "nbformat_minor": 5
}
